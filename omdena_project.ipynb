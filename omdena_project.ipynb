{
  "nbformat": 4,
  "nbformat_minor": 0,
  "metadata": {
    "colab": {
      "provenance": [],
      "authorship_tag": "ABX9TyO8YSLkSHTxzUm+TagG4G9c",
      "include_colab_link": true
    },
    "kernelspec": {
      "name": "python3",
      "display_name": "Python 3"
    },
    "language_info": {
      "name": "python"
    }
  },
  "cells": [
    {
      "cell_type": "markdown",
      "metadata": {
        "id": "view-in-github",
        "colab_type": "text"
      },
      "source": [
        "<a href=\"https://colab.research.google.com/github/basleal22/baslealwork/blob/main/omdena_project.ipynb\" target=\"_parent\"><img src=\"https://colab.research.google.com/assets/colab-badge.svg\" alt=\"Open In Colab\"/></a>"
      ]
    },
    {
      "cell_type": "code",
      "execution_count": 4,
      "metadata": {
        "colab": {
          "base_uri": "https://localhost:8080/"
        },
        "id": "AA-5MhlZ2TOL",
        "outputId": "fadb069a-0b0e-432e-ecc5-8098f90845c4"
      },
      "outputs": [
        {
          "output_type": "stream",
          "name": "stdout",
          "text": [
            "Mounted at /content/drive/\n"
          ]
        }
      ],
      "source": [
        "from google.colab import drive\n",
        "drive.mount('/content/drive/')"
      ]
    },
    {
      "cell_type": "code",
      "source": [
        "import zipfile\n",
        "zip_ref=zipfile.ZipFile(\"/content/drive/MyDrive/work_file/drive-download-20230404T100023Z-001.zip\",\"r\")\n",
        "zip_ref.extractall('/tmp')\n",
        "\n",
        "\n"
      ],
      "metadata": {
        "id": "TMYITKOe5IGZ"
      },
      "execution_count": 8,
      "outputs": []
    },
    {
      "cell_type": "code",
      "source": [
        "import pandas as pd\n",
        "data_set = pd.read_csv(\"/tmp/Amharic News Dataset.csv\")\n",
        "data_set.head()"
      ],
      "metadata": {
        "colab": {
          "base_uri": "https://localhost:8080/",
          "height": 337
        },
        "id": "R6jnZz7w5qqe",
        "outputId": "0f3801ba-2277-4c0d-b1a0-035153f039f6"
      },
      "execution_count": 10,
      "outputs": [
        {
          "output_type": "execute_result",
          "data": {
            "text/plain": [
              "                                      headline category               date  \\\n",
              "0  የኦሊምፒክ ማጣሪያ ተሳታፊዎች የሚለዩበት ቻምፒዮና እየተካሄደ ይገኛል     ስፖርት   January 14, 2021   \n",
              "1                                   አዲስ ዘመን ድሮ     መዝናኛ  December 28, 2020   \n",
              "2             የአረንጓዴ ጎርፍ በጎ አድራጎት አምባሳደሮች ተሰየሙ     ስፖርት    January 6, 2021   \n",
              "3        የሊጉ በቢዝነስ ሞዴል መመራት አበረታች ጅምር መሆኑ ተገለጸ     ስፖርት    January 6, 2021   \n",
              "4    የኦሊምፒክ ሥራ አስፈፃሚው እስከ ቶኪዮ ኦሊምፒክ ማግስት ይቀጥላል     ስፖርት    January 6, 2021   \n",
              "\n",
              "  views                                            article  \\\n",
              "0     2  ብርሃን ፈይሳየኢትዮጵያ ቦክስ ፌዴሬሽን በየዓመቱ የሚያዘጋጀው የክለቦች ቻ...   \n",
              "1     4   የአዲስ ዘመን ጋዜጣ ቀደምት ዘገባዎች በእጅጉ ተነባቢ ዛሬም ላገኛቸው በ...   \n",
              "2     6  ቦጋለ አበበየአዲስ አበባ ከተማ አስተዳደር ስፖርት ኮሚሽን ከኢትዮጵያ አረ...   \n",
              "3     5  ብርሃን ፈይሳአዲስ አበባ፡- የኢትዮጵያ ፕሪምየር ሊግ በሼር ካምፓኒ እንዲ...   \n",
              "4    12  ቦጋለ አበበ የኢትዮጵያ ኦሊምፒክ ኮሚቴ አርባ አምስተኛ መደበኛ ጠቅላላ ጉ...   \n",
              "\n",
              "                                link  \n",
              "0  https://www.press.et/Ama/?p=39481  \n",
              "1  https://www.press.et/Ama/?p=38334  \n",
              "2  https://www.press.et/Ama/?p=39010  \n",
              "3  https://www.press.et/Ama/?p=39011  \n",
              "4  https://www.press.et/Ama/?p=39012  "
            ],
            "text/html": [
              "\n",
              "  <div id=\"df-8fd97acd-44f6-43db-b105-a8d748c44073\">\n",
              "    <div class=\"colab-df-container\">\n",
              "      <div>\n",
              "<style scoped>\n",
              "    .dataframe tbody tr th:only-of-type {\n",
              "        vertical-align: middle;\n",
              "    }\n",
              "\n",
              "    .dataframe tbody tr th {\n",
              "        vertical-align: top;\n",
              "    }\n",
              "\n",
              "    .dataframe thead th {\n",
              "        text-align: right;\n",
              "    }\n",
              "</style>\n",
              "<table border=\"1\" class=\"dataframe\">\n",
              "  <thead>\n",
              "    <tr style=\"text-align: right;\">\n",
              "      <th></th>\n",
              "      <th>headline</th>\n",
              "      <th>category</th>\n",
              "      <th>date</th>\n",
              "      <th>views</th>\n",
              "      <th>article</th>\n",
              "      <th>link</th>\n",
              "    </tr>\n",
              "  </thead>\n",
              "  <tbody>\n",
              "    <tr>\n",
              "      <th>0</th>\n",
              "      <td>የኦሊምፒክ ማጣሪያ ተሳታፊዎች የሚለዩበት ቻምፒዮና እየተካሄደ ይገኛል</td>\n",
              "      <td>ስፖርት</td>\n",
              "      <td>January 14, 2021</td>\n",
              "      <td>2</td>\n",
              "      <td>ብርሃን ፈይሳየኢትዮጵያ ቦክስ ፌዴሬሽን በየዓመቱ የሚያዘጋጀው የክለቦች ቻ...</td>\n",
              "      <td>https://www.press.et/Ama/?p=39481</td>\n",
              "    </tr>\n",
              "    <tr>\n",
              "      <th>1</th>\n",
              "      <td>አዲስ ዘመን ድሮ</td>\n",
              "      <td>መዝናኛ</td>\n",
              "      <td>December 28, 2020</td>\n",
              "      <td>4</td>\n",
              "      <td>የአዲስ ዘመን ጋዜጣ ቀደምት ዘገባዎች በእጅጉ ተነባቢ ዛሬም ላገኛቸው በ...</td>\n",
              "      <td>https://www.press.et/Ama/?p=38334</td>\n",
              "    </tr>\n",
              "    <tr>\n",
              "      <th>2</th>\n",
              "      <td>የአረንጓዴ ጎርፍ በጎ አድራጎት አምባሳደሮች ተሰየሙ</td>\n",
              "      <td>ስፖርት</td>\n",
              "      <td>January 6, 2021</td>\n",
              "      <td>6</td>\n",
              "      <td>ቦጋለ አበበየአዲስ አበባ ከተማ አስተዳደር ስፖርት ኮሚሽን ከኢትዮጵያ አረ...</td>\n",
              "      <td>https://www.press.et/Ama/?p=39010</td>\n",
              "    </tr>\n",
              "    <tr>\n",
              "      <th>3</th>\n",
              "      <td>የሊጉ በቢዝነስ ሞዴል መመራት አበረታች ጅምር መሆኑ ተገለጸ</td>\n",
              "      <td>ስፖርት</td>\n",
              "      <td>January 6, 2021</td>\n",
              "      <td>5</td>\n",
              "      <td>ብርሃን ፈይሳአዲስ አበባ፡- የኢትዮጵያ ፕሪምየር ሊግ በሼር ካምፓኒ እንዲ...</td>\n",
              "      <td>https://www.press.et/Ama/?p=39011</td>\n",
              "    </tr>\n",
              "    <tr>\n",
              "      <th>4</th>\n",
              "      <td>የኦሊምፒክ ሥራ አስፈፃሚው እስከ ቶኪዮ ኦሊምፒክ ማግስት ይቀጥላል</td>\n",
              "      <td>ስፖርት</td>\n",
              "      <td>January 6, 2021</td>\n",
              "      <td>12</td>\n",
              "      <td>ቦጋለ አበበ የኢትዮጵያ ኦሊምፒክ ኮሚቴ አርባ አምስተኛ መደበኛ ጠቅላላ ጉ...</td>\n",
              "      <td>https://www.press.et/Ama/?p=39012</td>\n",
              "    </tr>\n",
              "  </tbody>\n",
              "</table>\n",
              "</div>\n",
              "      <button class=\"colab-df-convert\" onclick=\"convertToInteractive('df-8fd97acd-44f6-43db-b105-a8d748c44073')\"\n",
              "              title=\"Convert this dataframe to an interactive table.\"\n",
              "              style=\"display:none;\">\n",
              "        \n",
              "  <svg xmlns=\"http://www.w3.org/2000/svg\" height=\"24px\"viewBox=\"0 0 24 24\"\n",
              "       width=\"24px\">\n",
              "    <path d=\"M0 0h24v24H0V0z\" fill=\"none\"/>\n",
              "    <path d=\"M18.56 5.44l.94 2.06.94-2.06 2.06-.94-2.06-.94-.94-2.06-.94 2.06-2.06.94zm-11 1L8.5 8.5l.94-2.06 2.06-.94-2.06-.94L8.5 2.5l-.94 2.06-2.06.94zm10 10l.94 2.06.94-2.06 2.06-.94-2.06-.94-.94-2.06-.94 2.06-2.06.94z\"/><path d=\"M17.41 7.96l-1.37-1.37c-.4-.4-.92-.59-1.43-.59-.52 0-1.04.2-1.43.59L10.3 9.45l-7.72 7.72c-.78.78-.78 2.05 0 2.83L4 21.41c.39.39.9.59 1.41.59.51 0 1.02-.2 1.41-.59l7.78-7.78 2.81-2.81c.8-.78.8-2.07 0-2.86zM5.41 20L4 18.59l7.72-7.72 1.47 1.35L5.41 20z\"/>\n",
              "  </svg>\n",
              "      </button>\n",
              "      \n",
              "  <style>\n",
              "    .colab-df-container {\n",
              "      display:flex;\n",
              "      flex-wrap:wrap;\n",
              "      gap: 12px;\n",
              "    }\n",
              "\n",
              "    .colab-df-convert {\n",
              "      background-color: #E8F0FE;\n",
              "      border: none;\n",
              "      border-radius: 50%;\n",
              "      cursor: pointer;\n",
              "      display: none;\n",
              "      fill: #1967D2;\n",
              "      height: 32px;\n",
              "      padding: 0 0 0 0;\n",
              "      width: 32px;\n",
              "    }\n",
              "\n",
              "    .colab-df-convert:hover {\n",
              "      background-color: #E2EBFA;\n",
              "      box-shadow: 0px 1px 2px rgba(60, 64, 67, 0.3), 0px 1px 3px 1px rgba(60, 64, 67, 0.15);\n",
              "      fill: #174EA6;\n",
              "    }\n",
              "\n",
              "    [theme=dark] .colab-df-convert {\n",
              "      background-color: #3B4455;\n",
              "      fill: #D2E3FC;\n",
              "    }\n",
              "\n",
              "    [theme=dark] .colab-df-convert:hover {\n",
              "      background-color: #434B5C;\n",
              "      box-shadow: 0px 1px 3px 1px rgba(0, 0, 0, 0.15);\n",
              "      filter: drop-shadow(0px 1px 2px rgba(0, 0, 0, 0.3));\n",
              "      fill: #FFFFFF;\n",
              "    }\n",
              "  </style>\n",
              "\n",
              "      <script>\n",
              "        const buttonEl =\n",
              "          document.querySelector('#df-8fd97acd-44f6-43db-b105-a8d748c44073 button.colab-df-convert');\n",
              "        buttonEl.style.display =\n",
              "          google.colab.kernel.accessAllowed ? 'block' : 'none';\n",
              "\n",
              "        async function convertToInteractive(key) {\n",
              "          const element = document.querySelector('#df-8fd97acd-44f6-43db-b105-a8d748c44073');\n",
              "          const dataTable =\n",
              "            await google.colab.kernel.invokeFunction('convertToInteractive',\n",
              "                                                     [key], {});\n",
              "          if (!dataTable) return;\n",
              "\n",
              "          const docLinkHtml = 'Like what you see? Visit the ' +\n",
              "            '<a target=\"_blank\" href=https://colab.research.google.com/notebooks/data_table.ipynb>data table notebook</a>'\n",
              "            + ' to learn more about interactive tables.';\n",
              "          element.innerHTML = '';\n",
              "          dataTable['output_type'] = 'display_data';\n",
              "          await google.colab.output.renderOutput(dataTable, element);\n",
              "          const docLink = document.createElement('div');\n",
              "          docLink.innerHTML = docLinkHtml;\n",
              "          element.appendChild(docLink);\n",
              "        }\n",
              "      </script>\n",
              "    </div>\n",
              "  </div>\n",
              "  "
            ]
          },
          "metadata": {},
          "execution_count": 10
        }
      ]
    },
    {
      "cell_type": "code",
      "source": [
        "article_list= data_set['article'].tolist()\n",
        "article_list[0],article_list[1]"
      ],
      "metadata": {
        "colab": {
          "base_uri": "https://localhost:8080/"
        },
        "id": "vlsRz7ZX9Bh6",
        "outputId": "24dd10bf-6bbf-4174-e304-7b89fa5a4e7e"
      },
      "execution_count": 34,
      "outputs": [
        {
          "output_type": "execute_result",
          "data": {
            "text/plain": [
              "('ብርሃን ፈይሳየኢትዮጵያ ቦክስ ፌዴሬሽን በየዓመቱ የሚያዘጋጀው የክለቦች ቻምፒዮና በአዲስ አበባ ከተማ በመካሄድ ላይ ይገኛል። የተሻለ ብቃት ያሳዩ ቦክሰኞች ለቶኪዮ ኦሊምፒክ ማጣሪያ ተሳታፊ እንደሚሆኑም ታውቋል።በቦክስ ስፖርት ከሚካሄዱት ዓመታዊ ቻምፒዮናዎች መካከል አንዱ በክለቦች መካከል የሚካሄደው ነው፤ የዚህ ውድድር የመጀመሪያው ዙር በአዲስ አበባ ከተማ ተጀምሯል። የኢትዮጵያ ቦክስ ፌዴሬሽን ከአዲስ አበባ ቦክስ ፌዴሬሽን ጋር በመተባበር በተዘጋጀው በዚህ ቻምፒዮና፤ ከኮቪድ 19 ወረርሽኝ መከሰት በኋላ ለመጀመሪያ ጊዜ የተካሄደ ውድድርም ነው። በውድድሩም ላይ አምስት ክለቦች ከአዲስ አበባ (ፌዴራልፖሊስ፣ ፌዴራል ማረሚያ ቤቶች፣ አዲስ አበባ ፖሊስ፣ የኢትዮጵያ ወጣቶች ስፖርት አካዳሚ እና ኦሞቲክ ቦክስ)፣ ሁለት ክለቦች ከአማራ ክልል (ጎንደር ከነማ እና ደሴ ከነማ) እንዲሁም ድሬዳዋ ከነማ በድምሩ ስምንት ክለቦች ተሳታፊ መሆናቸውን የኢትዮጵያ ቦክስ ፌዴሬሽን መረጃ ያሳያል። በአጠቃላይ ክለቦቻቸውን ወክለውም 12 ሴትና 76 ወንድ ቦክሰኞች በጥቅሉ 88 ተወዳዳሪዎች ተሳታፊ ይሆናሉ። ውድድሩ የሚካሄደው በራስ ኃይሉ ስፖርት ትምህርትና ስልጠና ማዕከል ሲሆን፤ በ10 ክብደቶች በ49፣ 52፣ 57፣ 60፣ 63፣ 69፣ 70፣ 81፣ 89 እና 91 ኪሎ ግራሞች እየተካሄደም ይገኛል። የቦክስ ስፖርት ከንክኪ ስፖርቶች መካከል አንዱ እንደመሆኑ ጨዋታው በሚካሄድበት ወቅት ቦክሰኞቹ አካላዊ ቅርርብ ሊያደርጉ እና ሊነካኩ ይችላሉ። በመሆኑም በዚህ ረገድ ውድድሩ ሙሉ ለሙሉ የኮቪድ 19 ጥንቃቄን በተላበሰ መልኩ እየተካሄደ መሆኑን ነው ፌዴሬሽኑ ያረጋገጠው። ይኸውም ተወዳዳሪዎችና አሰልጣኞች የኮቪድ ምርመራ እንዲያደርጉና ከሌሎች ሰዎች ጋር እንዳይገናኙ በካምፕ እንዲቆዩ በማድረግ ነው። ከዚህ ባሻገር ውድድር የሚደረግበት ሪንግ ቶሎ ቶሎ በኬሚካል እንዲጸዱ እንዲሁም ተመልካቾች ውድድሩ ላይ እንዳይገኙም ተደርጓል። ኮቪድ 19 ዓለም አቀፍ ወረርሽኝ እንደመሆኑ በመላው ዓለም ስፖርታዊ ውድድሮች ተቋርጠው መቆየታቸው የሚታወስ ነው። ከእነዚህ ውድድሮች መካከል ለቶኪዮ 2020 ኦሊምፒክ የቦክስ ስፖርት ማጣሪያ የሚካሄደው ውድድር ይጠቀሳል። ውድድሮች ወደ እንቅስቃሴ መግባታቸውን ተከትሎም ማጣሪያው የሚቀጥል ይሆናል። ኢትዮጵያም በዚህ ቻምፒዮና (በመጀመሪያው ዙር) የተሻለ ብቃት ያሳዩ ቦክሰኞችን በማጣሪያው የምታሳትፍ መሆኑ ታውቋል። ቻምፒዮናው አራት ዙሮች ያሉት ሲሆን፤ ሁለተኛው ዙር ከአማራ ክልል ቦክስ ፌዴሬሽን ጋር በመሆን ጎንደር ላይ፣ ሶስተኛውን ከደቡብ ክልል ቦክስ ፌዴሬሽን ጋር በመሆን ወላይታ እንዲሁም የመጨረሻውና የማጠቃለያው ውድድር አዲስ አበባ ላይ የሚካሄድም ይሆናል። ቻምፒዮናው ጥር 4/2013 ዓም የተጀመረ ሲሆን እስከ ጥር 7/2013 ዓም ድረስም ይቆያል።',\n",
              " '\\xa0የአዲስ ዘመን ጋዜጣ ቀደምት ዘገባዎች በእጅጉ ተነባቢ ዛሬም ላገኛቸው በእጅጉ ተነባቢ ናቸው።እኛም ከእነዚህ ዘገባዎች ጋዜጣው በ1950ቹ ያስነበባቸውን ወጣ ያሉ ዘገባዎች ለዛሬ ይዘንላችሁ ቀርበናል።\\xa0በዛሬው የአዲስ ዘመን ዱሮ አምዳችን አዲስ ዘመን ጋዜጣ በ1950ዎቹ ይዟቸው ከወጣ ዘገባዎች በአዘጋገባቸውና በይዘታቸው ተነባቢ ናቸው ያልናቸውን እና ሌሎች አስደናቂ ዘገባዎችን ይዘን ቀርበናል። ማገጃ ምልክት ይሰጠውማንኛውም የሥራ ድርጅት በብዙ ድካም ከተቋቋመ በኋላ አስፈላጊው ጥንቃቄ ካልተደረገለት የተሠራው እንዳልተሠራ የነበረው እንዳልነበር መሆኑ የማይጠረጠር ነው።በሲዳሞ ጠ/ግዛት ዋና ከተማ ይርጋዓለም የቴሌኮሙኒኬሽን ቦርድ ያቋቋመው ከፍተኛ መሥሪያ ቤት ይገኛል። የተቋቋመውም በትልቁ መኪና መንገድ አጠገብ ስለሆነ ፤ተሽከርካሪዎች የሚመላለሱበት ቦታ ነው።አንዳንድ ጊዜም ከባድ ጭነት የያዙ መኪናዎች ለምሳሌ አውቶቡስን የመሳሰሉት በሁለተኛው መንገድ እንዲያልፉ የሚታዘዙበት ቀን ስለሚያጋጥም በተጠቀሰው መሥሪያ ቤት አደባባይ የሚገኙትን ሽቦዎች ሳይመለከቱ ለማለፍ ሲሞክሩ በብዙ መጯጯህ ስልኩ ሽቦ ከመጣስ የዳነበትና መኪናውንም ለመመለስ የቻለበትን ጊዜ ለማታወስ የማይችል የለም፤ ታናናሽ መኪናዎችን ለማሳለፍ የቦታው ስፋት ይፈቅዳል።ስለ ታላላቅ መኪናዎች ግን የክፍሉ ባለሥልጣን የማገጃ ምልክት ቢያደርግበት የሚሻል መሆኑን አስታውሳለሁ። አቧራ አዋዜ አይደለም። በዚሁ ከተማ ትልቁን\\nመንገድ በመከተል አልፎ\\nአልፎ በሚገኙት ሰፈሮች\\nብዙዎች የልኳንዳ ሥጋ\\nየተሰቀለባቸውና\\xa0 \\xa0ፉርኖ ይህንንም የመሳሰሉት ምግቦች የተደረደረባቸው ቤቶች ይገኛሉ። ሥጋው የሚገኝበት ብዙ ቦታ በረንዳ ስለሆነ ማናቸውም ተንቀሳቃሽና ይልቁንም በማይቋረጠው የመኪና ኃይል ከመንገዱ ላይ የሚነሳው አቧራ በሥጋውና በማናቸውም ምግብ ላይ ሲሰፍርበት ይታያል።ለማስረጃ ያህል በመንገዱ ዳር የሚገኘውን የቡና የሌላውንም ቅጠል የተመለከትን እንደሆነ በአንዱ ቅጠል ላይ ብቻ አንድ ጥርኝ የሚሞላ አቧራ ስለምናገኝ በየቀኑ በያንዳንዱ ብልት ሥጋ ላይ ተደባልቆ ወደ ሆድ የገባውን አቧራ ለመገመት እንችላለን።\\xa0ስለዚህ ሥጋና ፉርኖ ይህንንም የመሳሰለ ምግብ የሚያሰናዱ ነጋዴዎች ለዚሁ አገልግሎት በዘመናዊ ዕቅድ በተሰናዳው መስታወት ውስጥ ማኖር ይገባቸዋል።ይህም ባይቻል አቧራ ወደሌለበት ሁለተኛው መንገድ እንዲዛወሩ ማድረግ ስለሚገባ ፤ሥራው የሚመለከተው ባለሥልጣን ያስብበት ዘንድ ሳስታውስ በትሕትና ነው። መመሳሰል ይገባዋልበዚሁ ከተማ የሚገኘው የጠቅላይ ግዛቱ በጅሮንድ ጽ/ቤት በሦስት ቦታ ተከፋፍሎ የሚገኝ ከመሆኑም በላይ ቤቱም በጠላት ጊዜ የተሠራ አሁን መፍረስ የጀመረ ነው።ስለ የውስጥ ዕቃውም አጠባበቅ ከቤቱ ይልቅ ዘበኞቹንና ካዝናውን ማመን ግድ ሳይሆን አይቀርም። ይኸውም ሆኖ ለሥራው የተመጠነ ስፋት ያለው አይደለም። በአካባቢው የሚገኙት ቢሮዎች በአማረና በጥሩ ሕንፃ የተሠሩ ሲሆኑ፤ የተጠቀሰው መሥሪያ ቤት እርጅና የእነሱን ውበት ግርማ አሳንሶታል።ስለዚህ ጓደኞቹን እንዲመስል የክፍሉ ባለሥልጣን ይተጋበት ዘንድ ማሳሰብ የጋዜጣው ፋንታ ነው። የሲዳሞ ጠ/ግዛት አዣንስ ኃይለ መስቀል ወልደየስ (የካቲት 20 ቀን 1951 የወጣው አዲስ ዘመን) ሁለት ወንዶች ልጆችእናት በአስር ቀን ልዩነት ሁለት ወንዶች ልጆች ወለደች። በወቅቱ ዜናው ጋዜጣችን ላይ ሲወጣ ርዕሰ ዜናው ከላይ እንደተጠቀሰው ሁለት ወንዶች ልጆች ብቻ ነበር የሚለው በሚከተለው መልኩ ተዘግቦ ስለነበር እንድታነቡት እንጋብዛለን። በደብረ ታቦር ከተማ ዙሪያ ቃናት ማርያም ከተባለው አገር የአቶ መኰንን ካሳ ባለቤት ያልጋነሽ አድማሱ የተባለችው ፤ጥር 22 ቀን 51ዓ.ም ከሌሌቱ 8 ሰዐት ሲሆን አንድ ወንድ ልጅ ከወለደች በኋላ 10 ቀን ቆይታ የካቲት 2 ቀን 1951 ዓ.ም ከጥዋቱ 1 ሰዐት ሲሆን አንድ ወንድ ልጅ ደግማ መውለዷንና ሁለቱም ልጆች እስካሁን በሕይወታቸው መኖራቸውን የነዚሁ ልጆች አባት አቶ መኰንን ካሳ አስታውቀውናል። የደብረ ታቦር ከተማው ዙሪያ ምክትል ገዥ ባላምባራስ ኃይሌ ታምራት በቁጥር100/1951የካቲት 10 ቀን በተጻፈ ደብዳቤ አረጋግጠውልናል።እኒህ የምክትል ወረዳ ገዥ እንደዚህ ያለው ሁኔታ በጋዜጣ እንዲገለጥ በቶሎ ለአውራጃው ግዛት አዣንስ ጽ/ቤት በማስተላለፋቸው እናመሰግናለን። ሌላዎችም ምክትል ገዥዎች የርሳቸውን አርአያ ተከትለው ይህን የመሰለ ጉዳይ ሲያጋጥማቸው በፍጥነት የሚያስታውቁን ቢሆን ከፍ ያለ ምስጋና የሚያገኙበት መሆኑን እንገልጻለን።የደብረ ታቦር አውራጃ አዣንስ አሰፋ ረታ (የካቲት 17 ቀን 1951 የወጣው አዲስ ዘመን)')"
            ]
          },
          "metadata": {},
          "execution_count": 34
        }
      ]
    },
    {
      "cell_type": "code",
      "source": [
        "file=open('/tmp/StopWord-list.txt','r')\n",
        "data_file=[]\n",
        "for row in file:\n",
        "  data_file.append(row)\n",
        "print(data_file)"
      ],
      "metadata": {
        "colab": {
          "base_uri": "https://localhost:8080/"
        },
        "id": "4EXa-SEc-Z-Y",
        "outputId": "3d631f32-ddb7-46e0-a3a4-e8fb86eab613"
      },
      "execution_count": 20,
      "outputs": [
        {
          "output_type": "stream",
          "name": "stdout",
          "text": [
            "['\\ufeffህ-ን\\n', 'እንደ\\n', 'የ\\n', 'አል\\n', 'ው\\n', 'ኡ\\n', 'በ\\n', 'ተ\\n', 'ለ\\n', 'ን\\n', 'ኦች\\n', 'ኧ\\n', 'ና\\n', 'ከ\\n', 'አቸው\\n', 'ት\\n', 'መ\\n', 'አ\\n', 'አት\\n', 'ዎች\\n', 'ም\\n', 'አስ\\n', 'ኡት\\n', 'ላ\\n', 'ይ\\n', 'ማ\\n', 'ያ\\n', 'አ\\n', 'ቶ\\n', 'እንዲ\\n', 'የሚ\\n', 'ኦ\\n', 'ይ\\n', 'እየ\\n', 'ሲ\\n', 'ብ\\n', 'ወደ\\n', 'ሌላ\\n', 'ጋር\\n', 'ኡ\\n', 'እዚህ\\n', 'አንድ\\n', 'ውስጥ\\n', 'እንድ\\n', 'እ-ል\\n', 'ን-ብ-ር\\n', 'በኩል\\n', 'ል\\n', 'እስከ\\n', 'እና\\n', 'ድ-ግ-ም\\n', 'መካከል\\n', 'ኧት\\n', 'ሊ\\n', 'አይ\\n', 'ምክንያት\\n', 'ይህ\\n', 'ኧች\\n', 'ኢት\\n', 'ዋና\\n', 'አን\\n', 'እየ\\n', 'ስለ\\n', 'ች\\n', 'ስ\\n', 'ቢ\\n', 'ብቻ\\n', 'በየ\\n', 'ባለ\\n', 'ጋራ\\n', 'ኋላ\\n', 'እነ\\n', 'አም\\n', 'ሽ\\n', 'አዊ\\n', 'ዋ\\n', 'ያለ\\n', 'ግን\\n', 'ምን\\n', 'አችን\\n', 'ወይዘሮ\\n', 'ወዲህ\\n', 'ማን\\n', 'ዘንድ\\n', 'የት\\n', 'ናቸው\\n', 'ላ\\n', 'ይሁን\\n', 'ወይም\\n', 'ታች\\n', 'እዚያ\\n', 'እጅግ\\n', 'እንጅ\\n', 'በጣም\\n', 'ወዘተ\\n', 'ጅ-ም-ር\\n', 'አሁን\\n', 'ከነ\\n', 'ተራ\\n', 'ም-ል\\n', 'ጎሽ\\n', 'አዎ\\n', 'እሽ\\n', 'ጉዳይ\\n', 'ረገድ\\n', 'ያህል\\n', 'ይልቅ\\n', 'ዳር\\n', 'እንኳ\\n', 'አዎን\\n', 'ብ-ዝ\\n', 'ጥቂት\\n', 'እኔ\\n', 'አንተ\\n', 'እርስዎ\\n', 'እሳቸው\\n', 'እሱ\\n', 'አንች\\n', 'እኛ\\n', 'እነሱ\\n', 'እናንተ\\n', 'ይኸ\\n', 'የቱ\\n', 'መቼ\\n', 'ወዲያ\\n', 'ወዴት\\n', 'እንዴት\\n', 'ልክ\\n', 'አጠገብ\\n', 'ባሻገር\\n', 'እንትን\\n', 'እንትና\\n', 'ሁሉ\\n', 'እንጂ\\n', 'ይች\\n', 'ናት\\n', 'ምናልባት\\n', 'በቀር\\n', 'እስኪ\\n', 'ወይ\\n', 'እንዴ\\n', 'ስንት\\n', 'መቸ\\n', 'ከፍ\\n', 'ቢያንስ\\n', 'ብ-ቅ\\n', 'ምሳሌ\\n', 'እንግዲ\\n', 'እሷ\\n', 'ምነው\\n', 'የተለያዩ\\n', 'ወይስ\\n', 'እርስወት\\n', 'እንቶኔ\\n', 'እንቶኒት\\n', 'ኢ\\n', 'ኛ\\n', 'ነት\\n', 'በት\\n', 'ኤት\\n', 'ኤ\\n', 'ለይ\\n', 'ኦት\\n', 'ህ-ድ\\n', 'ዊ\\n', 'እን\\n', 'ኧች\\n', 'ኝ\\n', 'አዚህ\\n', 'ዉ\\n', 'ሁል\\n', 'ህ\\n', 'እንዳ\\n', 'አይነት\\n', 'መላ\\n', 'አችሁ\\n', 'አማካይ\\n', 'ዘዴ\\n', 'ነዉ\\n', 'አችው\\n', 'እዚያ\\n', 'በስቲያ\\n', 'ዉስጥ\\n', 'አዊት\\n', 'ኃላ\\n', 'እስክ\\n', 'ሳቢያ\\n', 'ስት\\n', 'ዬ\\n', 'ቲ\\n', 'ወስጥ\\n', 'ዝ\\n', 'ቶሎ\\n', 'ወትሮ\\n', 'በነ\\n', 'ኧቸ\\n', 'ታዲያ\\n', 'ጋ\\n', 'ውሰጥ\\n', 'መቼ\\n', 'ወይዘሪት\\n', 'ትናንት\\n', 'ይኽ\\n', 'ኤል\\n', 'ኦቸ\\n', 'ኢዋ\\n', 'የለ\\n', 'ሰሞን\\n', 'ፊት\\n', 'ምንጊዜ\\n', 'አቸን\\n', 'ኧም\\n', 'አወ\\n', 'ኢያ\\n', 'ነገ\\n', 'ትላንት\\n', 'ኣት\\n', 'እንጃ\\n', 'ድ-ር-ግ\\n', 'መልክ']\n"
          ]
        }
      ]
    },
    {
      "cell_type": "code",
      "source": [],
      "metadata": {
        "colab": {
          "base_uri": "https://localhost:8080/",
          "height": 383
        },
        "id": "9uo8boEaQgEe",
        "outputId": "d44fece5-51f4-4749-df34-99dfcdab3c51"
      },
      "execution_count": 22,
      "outputs": [
        {
          "output_type": "stream",
          "name": "stderr",
          "text": [
            "<ipython-input-22-58b26842b299>:1: FutureWarning: In a future version of pandas all arguments of read_csv except for the argument 'filepath_or_buffer' will be keyword-only.\n",
            "  pd_data=pd.read_csv(data_file,'r')\n"
          ]
        },
        {
          "output_type": "error",
          "ename": "ValueError",
          "evalue": "ignored",
          "traceback": [
            "\u001b[0;31m---------------------------------------------------------------------------\u001b[0m",
            "\u001b[0;31mValueError\u001b[0m                                Traceback (most recent call last)",
            "\u001b[0;32m<ipython-input-22-58b26842b299>\u001b[0m in \u001b[0;36m<cell line: 1>\u001b[0;34m()\u001b[0m\n\u001b[0;32m----> 1\u001b[0;31m \u001b[0mpd_data\u001b[0m\u001b[0;34m=\u001b[0m\u001b[0mpd\u001b[0m\u001b[0;34m.\u001b[0m\u001b[0mread_csv\u001b[0m\u001b[0;34m(\u001b[0m\u001b[0mdata_file\u001b[0m\u001b[0;34m,\u001b[0m\u001b[0;34m'r'\u001b[0m\u001b[0;34m)\u001b[0m\u001b[0;34m\u001b[0m\u001b[0;34m\u001b[0m\u001b[0m\n\u001b[0m\u001b[1;32m      2\u001b[0m \u001b[0mpd_data\u001b[0m\u001b[0;34m.\u001b[0m\u001b[0mhead\u001b[0m\u001b[0;34m(\u001b[0m\u001b[0;34m)\u001b[0m\u001b[0;34m\u001b[0m\u001b[0;34m\u001b[0m\u001b[0m\n",
            "\u001b[0;32m/usr/local/lib/python3.9/dist-packages/pandas/util/_decorators.py\u001b[0m in \u001b[0;36mwrapper\u001b[0;34m(*args, **kwargs)\u001b[0m\n\u001b[1;32m    309\u001b[0m                     \u001b[0mstacklevel\u001b[0m\u001b[0;34m=\u001b[0m\u001b[0mstacklevel\u001b[0m\u001b[0;34m,\u001b[0m\u001b[0;34m\u001b[0m\u001b[0;34m\u001b[0m\u001b[0m\n\u001b[1;32m    310\u001b[0m                 )\n\u001b[0;32m--> 311\u001b[0;31m             \u001b[0;32mreturn\u001b[0m \u001b[0mfunc\u001b[0m\u001b[0;34m(\u001b[0m\u001b[0;34m*\u001b[0m\u001b[0margs\u001b[0m\u001b[0;34m,\u001b[0m \u001b[0;34m**\u001b[0m\u001b[0mkwargs\u001b[0m\u001b[0;34m)\u001b[0m\u001b[0;34m\u001b[0m\u001b[0;34m\u001b[0m\u001b[0m\n\u001b[0m\u001b[1;32m    312\u001b[0m \u001b[0;34m\u001b[0m\u001b[0m\n\u001b[1;32m    313\u001b[0m         \u001b[0;32mreturn\u001b[0m \u001b[0mwrapper\u001b[0m\u001b[0;34m\u001b[0m\u001b[0;34m\u001b[0m\u001b[0m\n",
            "\u001b[0;32m/usr/local/lib/python3.9/dist-packages/pandas/io/parsers/readers.py\u001b[0m in \u001b[0;36mread_csv\u001b[0;34m(filepath_or_buffer, sep, delimiter, header, names, index_col, usecols, squeeze, prefix, mangle_dupe_cols, dtype, engine, converters, true_values, false_values, skipinitialspace, skiprows, skipfooter, nrows, na_values, keep_default_na, na_filter, verbose, skip_blank_lines, parse_dates, infer_datetime_format, keep_date_col, date_parser, dayfirst, cache_dates, iterator, chunksize, compression, thousands, decimal, lineterminator, quotechar, quoting, doublequote, escapechar, comment, encoding, encoding_errors, dialect, error_bad_lines, warn_bad_lines, on_bad_lines, delim_whitespace, low_memory, memory_map, float_precision, storage_options)\u001b[0m\n\u001b[1;32m    676\u001b[0m     \u001b[0mkwds\u001b[0m\u001b[0;34m.\u001b[0m\u001b[0mupdate\u001b[0m\u001b[0;34m(\u001b[0m\u001b[0mkwds_defaults\u001b[0m\u001b[0;34m)\u001b[0m\u001b[0;34m\u001b[0m\u001b[0;34m\u001b[0m\u001b[0m\n\u001b[1;32m    677\u001b[0m \u001b[0;34m\u001b[0m\u001b[0m\n\u001b[0;32m--> 678\u001b[0;31m     \u001b[0;32mreturn\u001b[0m \u001b[0m_read\u001b[0m\u001b[0;34m(\u001b[0m\u001b[0mfilepath_or_buffer\u001b[0m\u001b[0;34m,\u001b[0m \u001b[0mkwds\u001b[0m\u001b[0;34m)\u001b[0m\u001b[0;34m\u001b[0m\u001b[0;34m\u001b[0m\u001b[0m\n\u001b[0m\u001b[1;32m    679\u001b[0m \u001b[0;34m\u001b[0m\u001b[0m\n\u001b[1;32m    680\u001b[0m \u001b[0;34m\u001b[0m\u001b[0m\n",
            "\u001b[0;32m/usr/local/lib/python3.9/dist-packages/pandas/io/parsers/readers.py\u001b[0m in \u001b[0;36m_read\u001b[0;34m(filepath_or_buffer, kwds)\u001b[0m\n\u001b[1;32m    573\u001b[0m \u001b[0;34m\u001b[0m\u001b[0m\n\u001b[1;32m    574\u001b[0m     \u001b[0;31m# Create the parser.\u001b[0m\u001b[0;34m\u001b[0m\u001b[0;34m\u001b[0m\u001b[0m\n\u001b[0;32m--> 575\u001b[0;31m     \u001b[0mparser\u001b[0m \u001b[0;34m=\u001b[0m \u001b[0mTextFileReader\u001b[0m\u001b[0;34m(\u001b[0m\u001b[0mfilepath_or_buffer\u001b[0m\u001b[0;34m,\u001b[0m \u001b[0;34m**\u001b[0m\u001b[0mkwds\u001b[0m\u001b[0;34m)\u001b[0m\u001b[0;34m\u001b[0m\u001b[0;34m\u001b[0m\u001b[0m\n\u001b[0m\u001b[1;32m    576\u001b[0m \u001b[0;34m\u001b[0m\u001b[0m\n\u001b[1;32m    577\u001b[0m     \u001b[0;32mif\u001b[0m \u001b[0mchunksize\u001b[0m \u001b[0;32mor\u001b[0m \u001b[0miterator\u001b[0m\u001b[0;34m:\u001b[0m\u001b[0;34m\u001b[0m\u001b[0;34m\u001b[0m\u001b[0m\n",
            "\u001b[0;32m/usr/local/lib/python3.9/dist-packages/pandas/io/parsers/readers.py\u001b[0m in \u001b[0;36m__init__\u001b[0;34m(self, f, engine, **kwds)\u001b[0m\n\u001b[1;32m    930\u001b[0m \u001b[0;34m\u001b[0m\u001b[0m\n\u001b[1;32m    931\u001b[0m         \u001b[0mself\u001b[0m\u001b[0;34m.\u001b[0m\u001b[0mhandles\u001b[0m\u001b[0;34m:\u001b[0m \u001b[0mIOHandles\u001b[0m \u001b[0;34m|\u001b[0m \u001b[0;32mNone\u001b[0m \u001b[0;34m=\u001b[0m \u001b[0;32mNone\u001b[0m\u001b[0;34m\u001b[0m\u001b[0;34m\u001b[0m\u001b[0m\n\u001b[0;32m--> 932\u001b[0;31m         \u001b[0mself\u001b[0m\u001b[0;34m.\u001b[0m\u001b[0m_engine\u001b[0m \u001b[0;34m=\u001b[0m \u001b[0mself\u001b[0m\u001b[0;34m.\u001b[0m\u001b[0m_make_engine\u001b[0m\u001b[0;34m(\u001b[0m\u001b[0mf\u001b[0m\u001b[0;34m,\u001b[0m \u001b[0mself\u001b[0m\u001b[0;34m.\u001b[0m\u001b[0mengine\u001b[0m\u001b[0;34m)\u001b[0m\u001b[0;34m\u001b[0m\u001b[0;34m\u001b[0m\u001b[0m\n\u001b[0m\u001b[1;32m    933\u001b[0m \u001b[0;34m\u001b[0m\u001b[0m\n\u001b[1;32m    934\u001b[0m     \u001b[0;32mdef\u001b[0m \u001b[0mclose\u001b[0m\u001b[0;34m(\u001b[0m\u001b[0mself\u001b[0m\u001b[0;34m)\u001b[0m\u001b[0;34m:\u001b[0m\u001b[0;34m\u001b[0m\u001b[0;34m\u001b[0m\u001b[0m\n",
            "\u001b[0;32m/usr/local/lib/python3.9/dist-packages/pandas/io/parsers/readers.py\u001b[0m in \u001b[0;36m_make_engine\u001b[0;34m(self, f, engine)\u001b[0m\n\u001b[1;32m   1229\u001b[0m         \u001b[0;32melif\u001b[0m \u001b[0mengine\u001b[0m \u001b[0;34m!=\u001b[0m \u001b[0;34m\"python\"\u001b[0m\u001b[0;34m:\u001b[0m\u001b[0;34m\u001b[0m\u001b[0;34m\u001b[0m\u001b[0m\n\u001b[1;32m   1230\u001b[0m             \u001b[0mmsg\u001b[0m \u001b[0;34m=\u001b[0m \u001b[0;34mf\"Invalid file path or buffer object type: {type(f)}\"\u001b[0m\u001b[0;34m\u001b[0m\u001b[0;34m\u001b[0m\u001b[0m\n\u001b[0;32m-> 1231\u001b[0;31m             \u001b[0;32mraise\u001b[0m \u001b[0mValueError\u001b[0m\u001b[0;34m(\u001b[0m\u001b[0mmsg\u001b[0m\u001b[0;34m)\u001b[0m\u001b[0;34m\u001b[0m\u001b[0;34m\u001b[0m\u001b[0m\n\u001b[0m\u001b[1;32m   1232\u001b[0m \u001b[0;34m\u001b[0m\u001b[0m\n\u001b[1;32m   1233\u001b[0m         \u001b[0;32mtry\u001b[0m\u001b[0;34m:\u001b[0m\u001b[0;34m\u001b[0m\u001b[0;34m\u001b[0m\u001b[0m\n",
            "\u001b[0;31mValueError\u001b[0m: Invalid file path or buffer object type: <class 'list'>"
          ]
        }
      ]
    },
    {
      "cell_type": "code",
      "source": [],
      "metadata": {
        "id": "W0hIZGTGQ83D"
      },
      "execution_count": null,
      "outputs": []
    }
  ]
}